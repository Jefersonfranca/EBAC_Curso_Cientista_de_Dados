{
 "cells": [
  {
   "cell_type": "markdown",
   "metadata": {},
   "source": [
    "![Cabec%CC%A7alho_notebook.png](cabecalho_notebook.png)"
   ]
  },
  {
   "cell_type": "markdown",
   "metadata": {},
   "source": [
    "# PCA - Tarefa 01: *HAR* com PCA\n",
    "\n",
    "Vamos trabalhar com a base da demonstração feita em aula, mas vamos explorar um pouco melhor como é o desempenho da árvore variando o número de componentes principais."
   ]
  },
  {
   "cell_type": "code",
   "execution_count": 1,
   "metadata": {},
   "outputs": [],
   "source": [
    "import pandas as pd\n",
    "\n",
    "from sklearn.tree import DecisionTreeClassifier\n",
    "from sklearn.metrics import accuracy_score\n",
    "from sklearn.model_selection import cross_val_score, GridSearchCV\n",
    "\n",
    "from sklearn.decomposition import PCA\n",
    "import numpy as np\n",
    "import matplotlib.pyplot as plt\n",
    "import seaborn as sns\n",
    "\n",
    "from sklearn.ensemble import RandomForestClassifier\n",
    "from sklearn.model_selection import train_test_split\n",
    "\n",
    "\n",
    "# URLs dos arquivos\n",
    "filename_features = \"https://raw.githubusercontent.com/Jefersonfranca/EBAC_Curso_Cientista_de_Dados/main/M%C3%B3dulo%2017%20%C3%81rvores%20II/dataset/features_info.txt\"\n",
    "filename_labels = \"https://raw.githubusercontent.com/Jefersonfranca/EBAC_Curso_Cientista_de_Dados/main/M%C3%B3dulo%2017%20%C3%81rvores%20II/dataset/activity_labels.txt\"\n",
    "filename_subtrain = \"https://raw.githubusercontent.com/Jefersonfranca/EBAC_Curso_Cientista_de_Dados/main/M%C3%B3dulo%2017%20%C3%81rvores%20II/dataset/subject_train.txt\"\n",
    "filename_xtrain = \"https://raw.githubusercontent.com/Jefersonfranca/EBAC_Curso_Cientista_de_Dados/main/M%C3%B3dulo%2017%20%C3%81rvores%20II/dataset/X_train.txt\"\n",
    "filename_ytrain = \"https://raw.githubusercontent.com/Jefersonfranca/EBAC_Curso_Cientista_de_Dados/main/M%C3%B3dulo%2017%20%C3%81rvores%20II/dataset/y_train.txt\"\n",
    "filename_subtest = \"https://raw.githubusercontent.com/Jefersonfranca/EBAC_Curso_Cientista_de_Dados/main/M%C3%B3dulo%2017%20%C3%81rvores%20II/dataset/subject_test.txt\"\n",
    "filename_xtest = \"https://raw.githubusercontent.com/Jefersonfranca/EBAC_Curso_Cientista_de_Dados/main/M%C3%B3dulo%2017%20%C3%81rvores%20II/dataset/X_test.txt\"\n",
    "filename_ytest = \"https://raw.githubusercontent.com/Jefersonfranca/EBAC_Curso_Cientista_de_Dados/main/M%C3%B3dulo%2017%20%C3%81rvores%20II/dataset/y_test.txt\"\n",
    "\n",
    "# Carregar nomes de features\n",
    "features = pd.read_csv(filename_features, header=None, sep=\"#\")\n",
    "\n",
    "# Definir os nomes das colunas\n",
    "features.columns = ['nome_var']\n",
    "\n",
    "# Carregar labels\n",
    "labels = pd.read_csv(filename_labels, delim_whitespace=True, header=None, names=['cod_label', 'label'])\n",
    "\n",
    "# Carregar dados de treino\n",
    "subject_train = pd.read_csv(filename_subtrain, header=None, names=['subject_id'])\n",
    "X_train = pd.read_csv(filename_xtrain, delim_whitespace=True, header=None, names=features['nome_var'].tolist())\n",
    "y_train = pd.read_csv(filename_ytrain, header=None, names=['cod_label'])\n",
    "\n",
    "# Carregar dados de teste\n",
    "subject_test = pd.read_csv(filename_subtest, header=None, names=['subject_id'])\n",
    "X_test = pd.read_csv(filename_xtest, delim_whitespace=True, header=None, names=features['nome_var'].tolist())\n",
    "y_test = pd.read_csv(filename_ytest, header=None, names=['cod_label'])\n"
   ]
  },
  {
   "cell_type": "code",
   "execution_count": 2,
   "metadata": {},
   "outputs": [],
   "source": [
    "# Dividindo a base em Treino, Validação e Teste\n",
    "X_train, X_valid, y_train, y_valid = train_test_split(X_train, y_train)"
   ]
  },
  {
   "cell_type": "markdown",
   "metadata": {},
   "source": [
    "## Árvore de decisão\n",
    "\n",
    "Rode uma árvore de decisão com todas as variáveis, utilizando o ```ccp_alpha=0.001```. Avalie a acurácia nas bases de treinamento e teste. Avalie o tempo de processamento."
   ]
  },
  {
   "cell_type": "code",
   "execution_count": 3,
   "metadata": {},
   "outputs": [
    {
     "name": "stdout",
     "output_type": "stream",
     "text": [
      "CPU times: total: 2.02 s\n",
      "Wall time: 22.2 s\n"
     ]
    }
   ],
   "source": [
    "%%time\n",
    "ccp_alpha = 0.001\n",
    "clf = DecisionTreeClassifier(ccp_alpha=ccp_alpha, random_state=42).fit(X_train, y_train)\n",
    "#clf = DecisionTreeClassifier(random_state=1234)\n",
    "caminho = DecisionTreeClassifier(random_state=2360873, min_samples_leaf=20).cost_complexity_pruning_path(X_train, y_train)\n",
    "ccp_alphas, impurities = caminho.ccp_alphas, caminho.impurities\n",
    "\n",
    "ccp_alphas = np.unique(ccp_alphas[ccp_alphas>=0])\n",
    "\n",
    "clfs = []\n",
    "for ccp_alpha in ccp_alphas:\n",
    "    clf = DecisionTreeClassifier(random_state=2360873, ccp_alpha=ccp_alpha).fit(X_train, y_train)\n",
    "    clfs.append(clf)"
   ]
  },
  {
   "cell_type": "code",
   "execution_count": 4,
   "metadata": {},
   "outputs": [
    {
     "name": "stdout",
     "output_type": "stream",
     "text": [
      "Acurácia no conjunto de treinamento: 0.1904\n",
      "Acurácia no conjunto de teste: 0.1822\n",
      "CPU times: total: 31.2 ms\n",
      "Wall time: 276 ms\n"
     ]
    }
   ],
   "source": [
    "%%time\n",
    "# Treinar o classificador\n",
    "clf.fit(X_train, y_train)\n",
    "\n",
    "# Avaliar a acurácia nos dados de treinamento\n",
    "y_train_pred = clf.predict(X_train)\n",
    "train_accuracy = accuracy_score(y_train, y_train_pred)\n",
    "\n",
    "# Avaliar a acurácia nos dados de teste\n",
    "y_test_pred = clf.predict(X_test)\n",
    "test_accuracy = accuracy_score(y_test, y_test_pred)\n",
    "\n",
    "# Exibir os resultados\n",
    "print(f\"Acurácia no conjunto de treinamento: {train_accuracy:.4f}\")\n",
    "print(f\"Acurácia no conjunto de teste: {test_accuracy:.4f}\")"
   ]
  },
  {
   "cell_type": "markdown",
   "metadata": {},
   "source": [
    "## Árvore com PCA\n",
    "\n",
    "Faça uma análise de componemtes principais das variáveis originais. Utilize apenas uma componente. Faça uma árvore de decisão com esta componente como variável explicativa.\n",
    "\n",
    "- Avalie a acurácia nas bases de treinamento e teste\n",
    "- Avalie o tempo de processamento"
   ]
  },
  {
   "cell_type": "code",
   "execution_count": 5,
   "metadata": {},
   "outputs": [
    {
     "name": "stdout",
     "output_type": "stream",
     "text": [
      "Acurácia no conjunto de treinamento: 0.9998\n",
      "Acurácia no conjunto de teste: 0.4435\n",
      "CPU times: total: 125 ms\n",
      "Wall time: 53 ms\n"
     ]
    }
   ],
   "source": [
    "%%time\n",
    "\n",
    "# Definir o número de componentes principais desejadas\n",
    "n_components = 1\n",
    "\n",
    "# Aplicar PCA para reduzir as variáveis\n",
    "pca = PCA(n_components=n_components, random_state=42)\n",
    "X_train_pca = pca.fit_transform(X_train)\n",
    "X_test_pca = pca.transform(X_test)\n",
    "\n",
    "# Criar o classificador de árvore de decisão\n",
    "clf = DecisionTreeClassifier(random_state=42)\n",
    "\n",
    "# Treinar o classificador\n",
    "clf.fit(X_train_pca, y_train)\n",
    "\n",
    "# Avaliar a acurácia nos dados de treinamento\n",
    "y_train_pred = clf.predict(X_train_pca)\n",
    "train_accuracy = accuracy_score(y_train, y_train_pred)\n",
    "\n",
    "# Avaliar a acurácia nos dados de teste\n",
    "y_test_pred = clf.predict(X_test_pca)\n",
    "test_accuracy = accuracy_score(y_test, y_test_pred)\n",
    "\n",
    "# Exibir os resultados\n",
    "print(f\"Acurácia no conjunto de treinamento: {train_accuracy:.4f}\")\n",
    "print(f\"Acurácia no conjunto de teste: {test_accuracy:.4f}\")\n"
   ]
  },
  {
   "cell_type": "markdown",
   "metadata": {},
   "source": [
    "## Testando o número de componentes\n",
    "\n",
    "Com base no código acima, teste a árvore de classificação com pelo menos as seguintes possibilidades de quantidades de componentes: ```[1, 2, 5, 10, 50]```. Avalie para cada uma delas:\n",
    "\n",
    "- Acurácia nas bases de treino e teste\n",
    "- Tempo de processamento\n"
   ]
  },
  {
   "cell_type": "code",
   "execution_count": 6,
   "metadata": {},
   "outputs": [
    {
     "name": "stdout",
     "output_type": "stream",
     "text": [
      "### Avaliando com 1 componentes principais ###\n",
      "Acurácia no conjunto de treinamento: 1.0000\n",
      "Acurácia no conjunto de teste: 0.4143\n",
      "\n",
      "### Avaliando com 2 componentes principais ###\n",
      "Acurácia no conjunto de treinamento: 1.0000\n",
      "Acurácia no conjunto de teste: 0.4459\n",
      "\n",
      "### Avaliando com 5 componentes principais ###\n",
      "Acurácia no conjunto de treinamento: 1.0000\n",
      "Acurácia no conjunto de teste: 0.6685\n",
      "\n",
      "### Avaliando com 10 componentes principais ###\n",
      "Acurácia no conjunto de treinamento: 1.0000\n",
      "Acurácia no conjunto de teste: 0.6946\n",
      "\n",
      "### Avaliando com 49 componentes principais ###\n",
      "Acurácia no conjunto de treinamento: 1.0000\n",
      "Acurácia no conjunto de teste: 0.7207\n",
      "\n"
     ]
    }
   ],
   "source": [
    "# Lista de números de componentes principais a testar\n",
    "componentes_principais = [1, 2, 5, 10, min(X_train.shape)]  # Adicionando min(X_train.shape) como máximo pois da outra vez com 50 havia dado erro\n",
    "\n",
    "# Loop sobre os diferentes números de componentes\n",
    "for n_components in componentes_principais:\n",
    "    print(f\"### Avaliando com {n_components} componentes principais ###\")\n",
    "    \n",
    "    # Aplicar PCA para reduzir as variáveis\n",
    "    pca = PCA(n_components=n_components, random_state=42)\n",
    "    X_train_pca = pca.fit_transform(X_train)\n",
    "    X_test_pca = pca.transform(X_test)\n",
    "\n",
    "    # Criar o classificador de árvore de decisão\n",
    "    clf = DecisionTreeClassifier(random_state=42)\n",
    "\n",
    "    # Treinar o classificador\n",
    "    clf.fit(X_train_pca, y_train)\n",
    "\n",
    "    # Avaliar a acurácia nos dados de treinamento\n",
    "    y_train_pred = clf.predict(X_train_pca)\n",
    "    train_accuracy = accuracy_score(y_train, y_train_pred)\n",
    "\n",
    "    # Avaliar a acurácia nos dados de teste\n",
    "    y_test_pred = clf.predict(X_test_pca)\n",
    "    test_accuracy = accuracy_score(y_test, y_test_pred)\n",
    "\n",
    "    # Exibir os resultados\n",
    "    print(f\"Acurácia no conjunto de treinamento: {train_accuracy:.4f}\")\n",
    "    print(f\"Acurácia no conjunto de teste: {test_accuracy:.4f}\")\n",
    "    print()"
   ]
  },
  {
   "cell_type": "code",
   "execution_count": 6,
   "metadata": {},
   "outputs": [
    {
     "name": "stdout",
     "output_type": "stream",
     "text": [
      "### Avaliando com 1 componentes principais ###\n",
      "Acurácia no conjunto de treinamento: 0.9998\n",
      "Acurácia no conjunto de teste: 0.4435\n",
      "\n",
      "CPU times: total: 93.8 ms\n",
      "Wall time: 29 ms\n"
     ]
    }
   ],
   "source": [
    "%%time\n",
    "\n",
    "print(f\"### Avaliando com {1} componentes principais ###\")\n",
    "\n",
    "n_components = 1\n",
    "\n",
    "# Aplicar PCA para reduzir as variáveis\n",
    "pca = PCA(n_components=n_components, random_state=42)\n",
    "X_train_pca = pca.fit_transform(X_train)\n",
    "X_test_pca = pca.transform(X_test)\n",
    "\n",
    "# Criar o classificador de árvore de decisão\n",
    "clf = DecisionTreeClassifier(random_state=42)\n",
    "\n",
    "# Treinar o classificador\n",
    "clf.fit(X_train_pca, y_train)\n",
    "\n",
    "# Avaliar a acurácia nos dados de treinamento\n",
    "y_train_pred = clf.predict(X_train_pca)\n",
    "train_accuracy = accuracy_score(y_train, y_train_pred)\n",
    "\n",
    "# Avaliar a acurácia nos dados de teste\n",
    "y_test_pred = clf.predict(X_test_pca)\n",
    "test_accuracy = accuracy_score(y_test, y_test_pred)\n",
    "\n",
    "# Exibir os resultados\n",
    "print(f\"Acurácia no conjunto de treinamento: {train_accuracy:.4f}\")\n",
    "print(f\"Acurácia no conjunto de teste: {test_accuracy:.4f}\")\n",
    "print()"
   ]
  },
  {
   "cell_type": "code",
   "execution_count": 7,
   "metadata": {},
   "outputs": [
    {
     "name": "stdout",
     "output_type": "stream",
     "text": [
      "### Avaliando com 2 componentes principais ###\n",
      "Acurácia no conjunto de treinamento: 1.0000\n",
      "Acurácia no conjunto de teste: 0.4666\n",
      "\n",
      "CPU times: total: 125 ms\n",
      "Wall time: 39.6 ms\n"
     ]
    }
   ],
   "source": [
    "%%time\n",
    "\n",
    "print(f\"### Avaliando com {2} componentes principais ###\")\n",
    "\n",
    "n_components = 2\n",
    "    \n",
    "# Aplicar PCA para reduzir as variáveis\n",
    "pca = PCA(n_components=n_components, random_state=42)\n",
    "X_train_pca = pca.fit_transform(X_train)\n",
    "X_test_pca = pca.transform(X_test)\n",
    "\n",
    "# Criar o classificador de árvore de decisão\n",
    "clf = DecisionTreeClassifier(random_state=42)\n",
    "\n",
    "# Treinar o classificador\n",
    "clf.fit(X_train_pca, y_train)\n",
    "\n",
    "# Avaliar a acurácia nos dados de treinamento\n",
    "y_train_pred = clf.predict(X_train_pca)\n",
    "train_accuracy = accuracy_score(y_train, y_train_pred)\n",
    "\n",
    "# Avaliar a acurácia nos dados de teste\n",
    "y_test_pred = clf.predict(X_test_pca)\n",
    "test_accuracy = accuracy_score(y_test, y_test_pred)\n",
    "\n",
    "# Exibir os resultados\n",
    "print(f\"Acurácia no conjunto de treinamento: {train_accuracy:.4f}\")\n",
    "print(f\"Acurácia no conjunto de teste: {test_accuracy:.4f}\")\n",
    "print()"
   ]
  },
  {
   "cell_type": "code",
   "execution_count": 8,
   "metadata": {},
   "outputs": [
    {
     "name": "stdout",
     "output_type": "stream",
     "text": [
      "### Avaliando com 5 componentes principais ###\n",
      "Acurácia no conjunto de treinamento: 1.0000\n",
      "Acurácia no conjunto de teste: 0.6634\n",
      "\n",
      "CPU times: total: 109 ms\n",
      "Wall time: 53 ms\n"
     ]
    }
   ],
   "source": [
    "%%time\n",
    "\n",
    "print(f\"### Avaliando com {5} componentes principais ###\")\n",
    "\n",
    "n_components = 5\n",
    "    \n",
    "# Aplicar PCA para reduzir as variáveis\n",
    "pca = PCA(n_components=n_components, random_state=42)\n",
    "X_train_pca = pca.fit_transform(X_train)\n",
    "X_test_pca = pca.transform(X_test)\n",
    "\n",
    "# Criar o classificador de árvore de decisão\n",
    "clf = DecisionTreeClassifier(random_state=42)\n",
    "\n",
    "# Treinar o classificador\n",
    "clf.fit(X_train_pca, y_train)\n",
    "\n",
    "# Avaliar a acurácia nos dados de treinamento\n",
    "y_train_pred = clf.predict(X_train_pca)\n",
    "train_accuracy = accuracy_score(y_train, y_train_pred)\n",
    "\n",
    "# Avaliar a acurácia nos dados de teste\n",
    "y_test_pred = clf.predict(X_test_pca)\n",
    "test_accuracy = accuracy_score(y_test, y_test_pred)\n",
    "\n",
    "# Exibir os resultados\n",
    "print(f\"Acurácia no conjunto de treinamento: {train_accuracy:.4f}\")\n",
    "print(f\"Acurácia no conjunto de teste: {test_accuracy:.4f}\")\n",
    "print()"
   ]
  },
  {
   "cell_type": "code",
   "execution_count": 9,
   "metadata": {},
   "outputs": [
    {
     "name": "stdout",
     "output_type": "stream",
     "text": [
      "### Avaliando com 10 componentes principais ###\n",
      "Acurácia no conjunto de treinamento: 1.0000\n",
      "Acurácia no conjunto de teste: 0.6912\n",
      "\n",
      "CPU times: total: 422 ms\n",
      "Wall time: 130 ms\n"
     ]
    }
   ],
   "source": [
    "%%time\n",
    "\n",
    "print(f\"### Avaliando com {10} componentes principais ###\")\n",
    "\n",
    "n_components = 10\n",
    "    \n",
    "# Aplicar PCA para reduzir as variáveis\n",
    "pca = PCA(n_components=n_components, random_state=42)\n",
    "X_train_pca = pca.fit_transform(X_train)\n",
    "X_test_pca = pca.transform(X_test)\n",
    "\n",
    "# Criar o classificador de árvore de decisão\n",
    "clf = DecisionTreeClassifier(random_state=42)\n",
    "\n",
    "# Treinar o classificador\n",
    "clf.fit(X_train_pca, y_train)\n",
    "\n",
    "# Avaliar a acurácia nos dados de treinamento\n",
    "y_train_pred = clf.predict(X_train_pca)\n",
    "train_accuracy = accuracy_score(y_train, y_train_pred)\n",
    "\n",
    "# Avaliar a acurácia nos dados de teste\n",
    "y_test_pred = clf.predict(X_test_pca)\n",
    "test_accuracy = accuracy_score(y_test, y_test_pred)\n",
    "\n",
    "# Exibir os resultados\n",
    "print(f\"Acurácia no conjunto de treinamento: {train_accuracy:.4f}\")\n",
    "print(f\"Acurácia no conjunto de teste: {test_accuracy:.4f}\")\n",
    "print()"
   ]
  },
  {
   "cell_type": "code",
   "execution_count": 11,
   "metadata": {},
   "outputs": [
    {
     "name": "stdout",
     "output_type": "stream",
     "text": [
      "### Avaliando com 50 componentes principais ###\n",
      "Acurácia no conjunto de treinamento: 1.0000\n",
      "Acurácia no conjunto de teste: 0.6973\n",
      "\n",
      "CPU times: total: 1.09 s\n",
      "Wall time: 381 ms\n"
     ]
    }
   ],
   "source": [
    "%%time\n",
    "\n",
    "print(f\"### Avaliando com {50} componentes principais ###\")\n",
    "\n",
    "n_components = 49 # 50 ele não passa\n",
    "    \n",
    "# Aplicar PCA para reduzir as variáveis\n",
    "pca = PCA(n_components=n_components, random_state=42)\n",
    "X_train_pca = pca.fit_transform(X_train)\n",
    "X_test_pca = pca.transform(X_test)\n",
    "\n",
    "# Criar o classificador de árvore de decisão\n",
    "clf = DecisionTreeClassifier(random_state=42)\n",
    "\n",
    "# Treinar o classificador\n",
    "clf.fit(X_train_pca, y_train)\n",
    "\n",
    "# Avaliar a acurácia nos dados de treinamento\n",
    "y_train_pred = clf.predict(X_train_pca)\n",
    "train_accuracy = accuracy_score(y_train, y_train_pred)\n",
    "\n",
    "# Avaliar a acurácia nos dados de teste\n",
    "y_test_pred = clf.predict(X_test_pca)\n",
    "test_accuracy = accuracy_score(y_test, y_test_pred)\n",
    "\n",
    "# Exibir os resultados\n",
    "print(f\"Acurácia no conjunto de treinamento: {train_accuracy:.4f}\")\n",
    "print(f\"Acurácia no conjunto de teste: {test_accuracy:.4f}\")\n",
    "print()"
   ]
  },
  {
   "cell_type": "markdown",
   "metadata": {},
   "source": [
    "## Conclua\n",
    "\n",
    "- O que aconteceu com a acurácia?\n",
    "- O que aconteceu com o tempo de processamento?"
   ]
  },
  {
   "cell_type": "markdown",
   "metadata": {},
   "source": [
    "- **O que aconteceu com a acurácia?**\n",
    "   A acurácia aumentou à medida que aumentei a quantidade de componentes principais. Isso indica que as representações dos dados foram melhoradas à medida que mais informações foram capturadas pelas componentes principais, resultando em um melhor desempenho preditivo do modelo.\n",
    "\n",
    "- **O que aconteceu com o tempo de processamento?**\n",
    "   O tempo de processamento também aumentou à medida que aumentei a quantidade de componentes principais. Isso ocorre porque o PCA, ao extrair mais componentes principais, requer mais cálculos computacionais para transformar os dados e treinar o modelo."
   ]
  }
 ],
 "metadata": {
  "kernelspec": {
   "display_name": "Python 3",
   "language": "python",
   "name": "python3"
  },
  "language_info": {
   "codemirror_mode": {
    "name": "ipython",
    "version": 3
   },
   "file_extension": ".py",
   "mimetype": "text/x-python",
   "name": "python",
   "nbconvert_exporter": "python",
   "pygments_lexer": "ipython3",
   "version": "3.11.5"
  },
  "toc": {
   "base_numbering": 1,
   "nav_menu": {},
   "number_sections": true,
   "sideBar": true,
   "skip_h1_title": true,
   "title_cell": "Índice",
   "title_sidebar": "Conteúdo",
   "toc_cell": false,
   "toc_position": {},
   "toc_section_display": true,
   "toc_window_display": false
  },
  "varInspector": {
   "cols": {
    "lenName": 16,
    "lenType": 16,
    "lenVar": 40
   },
   "kernels_config": {
    "python": {
     "delete_cmd_postfix": "",
     "delete_cmd_prefix": "del ",
     "library": "var_list.py",
     "varRefreshCmd": "print(var_dic_list())"
    },
    "r": {
     "delete_cmd_postfix": ") ",
     "delete_cmd_prefix": "rm(",
     "library": "var_list.r",
     "varRefreshCmd": "cat(var_dic_list()) "
    }
   },
   "types_to_exclude": [
    "module",
    "function",
    "builtin_function_or_method",
    "instance",
    "_Feature"
   ],
   "window_display": false
  }
 },
 "nbformat": 4,
 "nbformat_minor": 4
}
