{
 "cells": [
  {
   "cell_type": "markdown",
   "metadata": {},
   "source": [
    "# Cálculo - Tarefa 01\n",
    "\n",
    "### 1. Marque quais desses métodos/algoritmos muito populares em ciência de dados são baseados no uso de derivada:\n",
    "\n",
    "    1. Método Mínimos Quadrados\n",
    "    2. Gradiente descendente\n",
    "    3. Newton Raphson\n",
    "    4. CART (Árvore de decisão)"
   ]
  },
  {
   "cell_type": "markdown",
   "metadata": {},
   "source": [
    "O médoto de **Mínimos Quadrados** usa derivada, O método envolve minimizar a soma dos quadrados, das diferenças entre os valores observados e os valores previstos pelo modelo. A solução analítica para os coeficientes envolve a derivada da função de erro em relação aos parâmetros do modelo.\n",
    "\n",
    "O método **Gradiente Descendente** também usa derivada, Este método é um algoritmo de otimização usado para minimizar uma função de erro. Ele utiliza a derivada da função de erro em relação aos parâmetros do modelo para ajustar iterativamente os parâmetros na direção que reduz o erro.\n",
    "\n",
    "O método **Newton-Raphson** também usa derivada, este algoritmo é utilizado para encontrar raízes de equações não lineares e para otimização. Ele envolve o cálculo da derivada da função objetivo para determinar a direção e o tamanho dos passos para a convergência mais rápida.\n",
    "\n",
    "O método **CART (Árvore de decisão)** não usa derivada necessariamente. Árvore de decisão, como implementada neste algoritmo, geralmente não dependem diretamente do cálculo de derivadas. Elas são construídas com base em critérios de divisão, como Gini impurity ou ganho de informação, que não requerem o uso explícito de derivdas."
   ]
  },
  {
   "cell_type": "markdown",
   "metadata": {},
   "source": [
    "#### 2. Dada uma base de dados com uma variável resposta $y$ e um conjunto de variáveis explicativas. Considere uma estrutura de um modelo de regressão. Explique com suas palavras por que não é possível obter parâmetros que forneçam um erro quadrático médio (EQM) menor que o obtido com estimadores de mínimos quadrados."
   ]
  },
  {
   "cell_type": "markdown",
   "metadata": {},
   "source": [
    "Os estimadores de mínimos quadrados são amplamente utilizados e confiáveis na prática porque são ótimos dentro do contexto do modelo linear clássico, proporcionando uma combinação de baixo viés e baixa variância. Portanto, não é possível obter parâmetros que resultem em um EQM menor do que o obtido com OLS porque esses estimadores já exploram eficientemente as características fundamentais do modelo de regressão linear."
   ]
  },
  {
   "cell_type": "markdown",
   "metadata": {},
   "source": []
  }
 ],
 "metadata": {
  "kernelspec": {
   "display_name": "Python 3",
   "language": "python",
   "name": "python3"
  },
  "language_info": {
   "codemirror_mode": {
    "name": "ipython",
    "version": 3
   },
   "file_extension": ".py",
   "mimetype": "text/x-python",
   "name": "python",
   "nbconvert_exporter": "python",
   "pygments_lexer": "ipython3",
   "version": "3.8.5"
  },
  "toc": {
   "base_numbering": 1,
   "nav_menu": {},
   "number_sections": true,
   "sideBar": true,
   "skip_h1_title": true,
   "title_cell": "Índice",
   "title_sidebar": "Conteúdo",
   "toc_cell": false,
   "toc_position": {},
   "toc_section_display": true,
   "toc_window_display": false
  },
  "varInspector": {
   "cols": {
    "lenName": 16,
    "lenType": 16,
    "lenVar": 40
   },
   "kernels_config": {
    "python": {
     "delete_cmd_postfix": "",
     "delete_cmd_prefix": "del ",
     "library": "var_list.py",
     "varRefreshCmd": "print(var_dic_list())"
    },
    "r": {
     "delete_cmd_postfix": ") ",
     "delete_cmd_prefix": "rm(",
     "library": "var_list.r",
     "varRefreshCmd": "cat(var_dic_list()) "
    }
   },
   "types_to_exclude": [
    "module",
    "function",
    "builtin_function_or_method",
    "instance",
    "_Feature"
   ],
   "window_display": false
  }
 },
 "nbformat": 4,
 "nbformat_minor": 4
}
