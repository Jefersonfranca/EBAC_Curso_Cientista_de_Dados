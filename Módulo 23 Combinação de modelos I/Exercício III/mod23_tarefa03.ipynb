{
 "cells": [
  {
   "cell_type": "markdown",
   "metadata": {},
   "source": [
    "# Tarefa 03 Módulo 23 Combinação de Modelos\n"
   ]
  },
  {
   "cell_type": "markdown",
   "metadata": {},
   "source": [
    "## 1). Quais são os hyperparâmetros do RF?"
   ]
  },
  {
   "cell_type": "markdown",
   "metadata": {},
   "source": [
    "### Principais Hiperparâmetros do Random Forest:\n",
    "\n",
    "class sklearn.ensemble.RandomForestClassifier(n_estimators=100, criterion='gini', max_depth=None, min_samples_split=2, min_samples_leaf=1, min_weight_fraction_leaf=0.0, max_features='sqrt', max_leaf_nodes=None, min_impurity_decrease=0.0, bootstrap=True, oob_score=False, n_jobs=None, random_state=None, verbose=0, warm_start=False, class_weight=None, ccp_alpha=0.0, max_samples=None, monotonic_cst=None)[source]\n",
    "\n",
    "### n_estimators=100\n",
    "### max_depth=None\n",
    "### max_features='sqrt'\n",
    "### min_samples_split=2\n",
    "### min_samples_leaf=1\n",
    "### min_weight_fraction_leaf=0.0\n",
    "### criterion='gini'\n",
    "### bootstrap=True\n",
    "### class_weight=None\n",
    "### min_impurity_decrease=0.0\n",
    "### max_samples=None\n",
    "### random_state=None\n",
    "### verbose=0\n",
    "### warm_start=False\n",
    "### ccp_alpha=0.0\n",
    "### monotonic_cst=None\n",
    "### n_jobs=None\n",
    "---"
   ]
  },
  {
   "cell_type": "markdown",
   "metadata": {},
   "source": [
    "# 2). Pra que serve cada um deles? \n",
    "\n",
    "#### 1. **Número de Árvores ('n_estimators')*\n",
    "\n",
    "Ele define o número de árvores que serão criadas no modelo, um exemplo é n_estimators=100 que define um número de 100 árvores criadas para o nosso modelo\n",
    "\n",
    "#### 2. **Profundidade máxima das Árvores ('max-depth')**\n",
    "\n",
    "Limita a profundidade das árvores para evitar overfitting. É preciso ter um equilíbrio quanto a definir a profundidade das árvores, as árvores muito profundas pode aprender ruídos específicos do conjunto de dados de treminamento enquanto as árvores muito rasas podem ão capturar a complexidade necessária. Exemplo 'max_depth=10'\n",
    "\n",
    "#### 3. **Número Máximo de Características para divisão ('max_features')**\n",
    "\n",
    "O número máximo de características a serem consideradas ao procurar pela melhor divisão, reduzir o número de características pode acelerar o treinamento e reduzir o risco de overfitting, mas também pode levar a um modelo menos preciso. Exemplo 'max-features='sqrt' (podendo usar 'auto', 'sqrt' ou 'log2' por exemplo).\n",
    "\n",
    "#### 4. **Número Mínimo de Amostras para Dividir um Nó ('min_samples_split')**\n",
    "\n",
    "O número mínimo de amostras necessárias para dividir um nó. Exemplo 'min_samples_split=2'.\n",
    "\n",
    "#### 5. **Número mínio de amostras em uma folha ('min_samples_leaf')**\n",
    "\n",
    "O número mínimo de amostras que um nó folha deve ter, previne que o modelo crire folhas com um número muito pequeno de amostras, o que pode ajudar a reduzir o overfitting. Exemplo: 'min_samples_leaf=1' .\n",
    "\n",
    "#### 6. **Número mínimo de amostras ponderadas em uma folha ('min_weight_fraction_leaf')**\n",
    "\n",
    "O peso fracionário mínimo das amostras necessárias em um nó folha. ùtil em conujuntos de dados com pesos de amostras diferentes. Exemplo 'min_weight_fraction_leaf=0.0' .\n",
    "\n",
    "#### 7. **Critério de divisão ('criterion')**\n",
    "\n",
    "A função de medida da qualidade de uma divisão. Para classificação, pode ser 'gini' ou 'entropy', e para regressão, pode ser 'ms3', 'mae', ou 'friedman_mse'. Diferentes critérios podem resultar em diferentes estruturas de árvores. Exemplo: 'criterion='gini'.\n",
    "\n",
    "#### 8. **Amostragem de Amostras para Treinamento de cada Árvore ('bootstrap')**\n",
    "\n",
    "Define se amostragem com reposição é usada ao construir árvores. Quando 'True', permite que algumas amostras sejam repetidas no conjuntode treinamento de cada árvore, o que aumenta a variabilidade. Exemplo: 'bootstrap=True\" .\n",
    "\n",
    "#### 9. **Peso das Classes ('class_weight')**\n",
    "\n",
    "Define pesos associados às classes para tratar desequilíbrios. Ajustar os pesos das classes pode melhorar a precisão de classes minoritáiras. Exemplo 'class_weight='balanced''.\n",
    "\n",
    "#### 10. **Número mínimo de Amostras por divisão ('min_impurity_decrease')**\n",
    "\n",
    "Um nó será dividido se esta divisão induzir a uma diminuição da impureza maior ou igual a este valor. Ajuda a controlar o crescimento da árvore, impedindo divisões que não reduzem suficienmente a impureza. Exemplo 'min_impurity_decrease=0.0'.\n",
    "\n",
    "#### 11. **Número máximo de Amostras para cada Árvore ('max_samples')**\n",
    "\n",
    "Se 'bootstrap=True', especifica o número máximo de amostras a serem sorteados de X para treinar cada árvore de cesição. Control o númereo de amostras de bootstrap usadas para construir cada árvore. Exemplo 'max_samples=0.8'.\n",
    "\n",
    "#### 12. **Random State ('random_state')**\n",
    "\n",
    "Controla a aleatoriedade da amostragem dos dados, para inicialização do bootstrap. Permite a reprodução dos resultados. Exemplo 'random_state=42'.\n",
    "\n",
    "---"
   ]
  }
 ],
 "metadata": {
  "kernelspec": {
   "display_name": "Python 3 (ipykernel)",
   "language": "python",
   "name": "python3"
  },
  "language_info": {
   "codemirror_mode": {
    "name": "ipython",
    "version": 3
   },
   "file_extension": ".py",
   "mimetype": "text/x-python",
   "name": "python",
   "nbconvert_exporter": "python",
   "pygments_lexer": "ipython3",
   "version": "3.11.5"
  },
  "toc": {
   "base_numbering": 1,
   "nav_menu": {},
   "number_sections": false,
   "sideBar": true,
   "skip_h1_title": true,
   "title_cell": "Índice",
   "title_sidebar": "Conteúdo",
   "toc_cell": false,
   "toc_position": {},
   "toc_section_display": true,
   "toc_window_display": false
  },
  "varInspector": {
   "cols": {
    "lenName": 16,
    "lenType": 16,
    "lenVar": 40
   },
   "kernels_config": {
    "python": {
     "delete_cmd_postfix": "",
     "delete_cmd_prefix": "del ",
     "library": "var_list.py",
     "varRefreshCmd": "print(var_dic_list())"
    },
    "r": {
     "delete_cmd_postfix": ") ",
     "delete_cmd_prefix": "rm(",
     "library": "var_list.r",
     "varRefreshCmd": "cat(var_dic_list()) "
    }
   },
   "types_to_exclude": [
    "module",
    "function",
    "builtin_function_or_method",
    "instance",
    "_Feature"
   ],
   "window_display": false
  }
 },
 "nbformat": 4,
 "nbformat_minor": 4
}
